{
  "nbformat": 4,
  "nbformat_minor": 0,
  "metadata": {
    "colab": {
      "provenance": []
    },
    "kernelspec": {
      "name": "python3",
      "display_name": "Python 3"
    },
    "language_info": {
      "name": "python"
    }
  },
  "cells": [
    {
      "cell_type": "markdown",
      "source": [
        "Q1. Which keyword is used to create a function? Create a function to return a list of odd numbers in the range of 1 to 25."
      ],
      "metadata": {
        "id": "jNlzO4xLsNBJ"
      }
    },
    {
      "cell_type": "code",
      "source": [
        "\"\"\" The 'def' keyword is used to create a function in Python.\"\"\"\n",
        "def get_odd_numbers():\n",
        "    odd_numbers = []\n",
        "    for i in range(1,26):\n",
        "      if i%2!=0:\n",
        "        odd_numbers.append(i)\n",
        "    return odd_numbers"
      ],
      "metadata": {
        "id": "2fA9xNCJnchL"
      },
      "execution_count": null,
      "outputs": []
    },
    {
      "cell_type": "code",
      "source": [
        "get_odd_numbers()"
      ],
      "metadata": {
        "colab": {
          "base_uri": "https://localhost:8080/"
        },
        "id": "WQPf0cx9liCA",
        "outputId": "6a6e43f6-b21c-452f-bf48-cde65ecfd50a"
      },
      "execution_count": null,
      "outputs": [
        {
          "output_type": "execute_result",
          "data": {
            "text/plain": [
              "[1, 3, 5, 7, 9, 11, 13, 15, 17, 19, 21, 23, 25]"
            ]
          },
          "metadata": {},
          "execution_count": 2
        }
      ]
    },
    {
      "cell_type": "markdown",
      "source": [
        "Q2. Why *args and **kwargs is used in some functions? Create a function each for *args and **kwargs to\n",
        "demonstrate their use."
      ],
      "metadata": {
        "id": "hJW6r7V7lom0"
      }
    },
    {
      "cell_type": "code",
      "source": [
        "\"\"\" We use *args to take number of aruments with out any issue and **kwargs to take arguments as key value pair.\"\"\"\n",
        "def test(*args):\n",
        "  return args\n",
        "def test1(**kwargs):\n",
        "  return kwargs"
      ],
      "metadata": {
        "id": "wepxx51ilk9F"
      },
      "execution_count": null,
      "outputs": []
    },
    {
      "cell_type": "code",
      "source": [
        "test(1,2,3,4,5,6,7)"
      ],
      "metadata": {
        "colab": {
          "base_uri": "https://localhost:8080/"
        },
        "id": "T6hlyg7Qmi8k",
        "outputId": "22912c4c-1a75-4344-c739-c1fff97b3878"
      },
      "execution_count": null,
      "outputs": [
        {
          "output_type": "execute_result",
          "data": {
            "text/plain": [
              "(1, 2, 3, 4, 5, 6, 7)"
            ]
          },
          "metadata": {},
          "execution_count": 7
        }
      ]
    },
    {
      "cell_type": "code",
      "source": [
        "test1(a=1,b=2,c=3)"
      ],
      "metadata": {
        "colab": {
          "base_uri": "https://localhost:8080/"
        },
        "id": "-_h1gJhhml-N",
        "outputId": "fc451caa-db5a-4a47-8279-a6a79cf11ba0"
      },
      "execution_count": null,
      "outputs": [
        {
          "output_type": "execute_result",
          "data": {
            "text/plain": [
              "{'a': 1, 'b': 2, 'c': 3}"
            ]
          },
          "metadata": {},
          "execution_count": 8
        }
      ]
    },
    {
      "cell_type": "markdown",
      "source": [
        "Q3. What is an iterator in python? Name the method used to initialise the iterator object and the method\n",
        "used for iteration. Use these methods to print the first five elements of the given list [2, 4, 6, 8, 10, 12, 14, 16,\n",
        "18, 20]."
      ],
      "metadata": {
        "id": "23ijg1aQm2sQ"
      }
    },
    {
      "cell_type": "code",
      "source": [
        "\"\"\"An iterator in Python is an object that allows you to traverse through elements of a collection, one at a time,\n",
        "without having to know the underlying structure of the collection.\"\"\"\n",
        "\n",
        "\"\"\"The method used to initialize the iterator object is iter(). The method used for iteration is next().\"\"\"\n",
        "\n",
        "my_list = [2, 4, 6, 8, 10, 12, 14, 16, 18, 20]\n",
        "\n",
        "my_iterator = iter(my_list)\n",
        "\n",
        "for i in range(5):\n",
        "  element = next(my_iterator)\n",
        "  print(element)"
      ],
      "metadata": {
        "colab": {
          "base_uri": "https://localhost:8080/"
        },
        "id": "jiB8nqlAAQEp",
        "outputId": "9038f122-cb33-4a9d-b847-4acf582ceb5b"
      },
      "execution_count": 2,
      "outputs": [
        {
          "output_type": "stream",
          "name": "stdout",
          "text": [
            "2\n",
            "4\n",
            "6\n",
            "8\n",
            "10\n"
          ]
        }
      ]
    },
    {
      "cell_type": "markdown",
      "source": [
        "Q4. What is a generator function in python? Why yield keyword is used? Give an example of a generator\n",
        "function."
      ],
      "metadata": {
        "id": "Ylk-nGUfnT2R"
      }
    },
    {
      "cell_type": "code",
      "source": [
        "\"\"\" A generator function in Python is a special type of function that returns an iterator, which can be used to iterate over a sequence of values.\n",
        "It uses the yield keyword instead of return to produce a series of values one at a time, rather than computing and returning the entire sequence at once.\n",
        "\n",
        "Here is an example of a generator function that generates the Fibonacci sequence:\"\"\"\n",
        "\n",
        "\n",
        "def fibonacci_sequence(n):\n",
        "    a, b = 0, 1\n",
        "    for i in range(n):\n",
        "        yield a\n",
        "        a, b = b, a + b\n",
        "\n",
        "for number in fibonacci_sequence(10):\n",
        "    print(number)"
      ],
      "metadata": {
        "colab": {
          "base_uri": "https://localhost:8080/"
        },
        "id": "jGVZ_RdyA0Oz",
        "outputId": "92161c8d-08fc-42c1-8106-ce1a5d4e20f3"
      },
      "execution_count": 3,
      "outputs": [
        {
          "output_type": "stream",
          "name": "stdout",
          "text": [
            "0\n",
            "1\n",
            "1\n",
            "2\n",
            "3\n",
            "5\n",
            "8\n",
            "13\n",
            "21\n",
            "34\n"
          ]
        }
      ]
    },
    {
      "cell_type": "markdown",
      "source": [
        "Q5. Create a generator function for prime numbers less than 1000. Use the next() method to print the\n",
        "first 20 prime numbers."
      ],
      "metadata": {
        "id": "BTJBezGkBfFM"
      }
    },
    {
      "cell_type": "code",
      "source": [
        "def prime_numbers():\n",
        "    for num in range(2, 1000):\n",
        "        for i in range(2, num):\n",
        "            if (num % i) == 0:\n",
        "                break\n",
        "        else:\n",
        "            yield num\n",
        "prime_gen = prime_numbers()\n",
        "for i in range(1,21):\n",
        "  num = next(prime_gen)\n",
        "  print(num)"
      ],
      "metadata": {
        "colab": {
          "base_uri": "https://localhost:8080/"
        },
        "id": "fEldgw_GBgI2",
        "outputId": "d06b9edb-f911-48a1-a940-a9e920b3f53e"
      },
      "execution_count": 8,
      "outputs": [
        {
          "output_type": "stream",
          "name": "stdout",
          "text": [
            "2\n",
            "3\n",
            "5\n",
            "7\n",
            "11\n",
            "13\n",
            "17\n",
            "19\n",
            "23\n",
            "29\n",
            "31\n",
            "37\n",
            "41\n",
            "43\n",
            "47\n",
            "53\n",
            "59\n",
            "61\n",
            "67\n",
            "71\n"
          ]
        }
      ]
    },
    {
      "cell_type": "code",
      "source": [],
      "metadata": {
        "id": "HodEr5TMDpeX"
      },
      "execution_count": null,
      "outputs": []
    }
  ]
}